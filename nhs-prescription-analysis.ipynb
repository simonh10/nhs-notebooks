{
 "cells": [
  {
   "cell_type": "code",
   "execution_count": 17,
   "metadata": {},
   "outputs": [],
   "source": [
    "import numpy as np\n",
    "\n",
    "import pandas as pd"
   ]
  },
  {
   "cell_type": "code",
   "execution_count": 18,
   "metadata": {},
   "outputs": [],
   "source": [
    "url = \"https://files.digital.nhs.uk/BA/9B79CF/T201812PDPI%20BNFT.csv\"\n",
    "df = pd.read_csv(url)"
   ]
  },
  {
   "cell_type": "code",
   "execution_count": 33,
   "metadata": {},
   "outputs": [],
   "source": [
    "df2 = df.iloc[1:1000]"
   ]
  },
  {
   "cell_type": "code",
   "execution_count": 34,
   "metadata": {},
   "outputs": [
    {
     "data": {
      "text/html": [
       "<div>\n",
       "<style scoped>\n",
       "    .dataframe tbody tr th:only-of-type {\n",
       "        vertical-align: middle;\n",
       "    }\n",
       "\n",
       "    .dataframe tbody tr th {\n",
       "        vertical-align: top;\n",
       "    }\n",
       "\n",
       "    .dataframe thead th {\n",
       "        text-align: right;\n",
       "    }\n",
       "</style>\n",
       "<table border=\"1\" class=\"dataframe\">\n",
       "  <thead>\n",
       "    <tr style=\"text-align: right;\">\n",
       "      <th></th>\n",
       "      <th>SHA</th>\n",
       "      <th>PCT</th>\n",
       "      <th>PRACTICE</th>\n",
       "      <th>BNF CODE</th>\n",
       "      <th>BNF NAME</th>\n",
       "      <th>ITEMS</th>\n",
       "      <th>NIC</th>\n",
       "      <th>ACT COST</th>\n",
       "      <th>QUANTITY</th>\n",
       "      <th>PERIOD</th>\n",
       "    </tr>\n",
       "  </thead>\n",
       "  <tbody>\n",
       "    <tr>\n",
       "      <th>1</th>\n",
       "      <td>Q44</td>\n",
       "      <td>01C</td>\n",
       "      <td>N81002</td>\n",
       "      <td>0101021B0AAAPAP</td>\n",
       "      <td>Sod Alginate/Pot Bicarb_Tab Chble 500mg</td>\n",
       "      <td>1</td>\n",
       "      <td>3.07</td>\n",
       "      <td>2.86</td>\n",
       "      <td>60.0</td>\n",
       "      <td>201812</td>\n",
       "    </tr>\n",
       "    <tr>\n",
       "      <th>2</th>\n",
       "      <td>Q44</td>\n",
       "      <td>01C</td>\n",
       "      <td>N81002</td>\n",
       "      <td>0101021B0BEACAH</td>\n",
       "      <td>Gaviscon_Liq Orig Aniseed Relief</td>\n",
       "      <td>1</td>\n",
       "      <td>12.99</td>\n",
       "      <td>12.07</td>\n",
       "      <td>900.0</td>\n",
       "      <td>201812</td>\n",
       "    </tr>\n",
       "    <tr>\n",
       "      <th>3</th>\n",
       "      <td>Q44</td>\n",
       "      <td>01C</td>\n",
       "      <td>N81002</td>\n",
       "      <td>0101021B0BEADAJ</td>\n",
       "      <td>Gaviscon Infant_Sach 2g (Dual Pack) S/F</td>\n",
       "      <td>3</td>\n",
       "      <td>81.94</td>\n",
       "      <td>76.09</td>\n",
       "      <td>255.0</td>\n",
       "      <td>201812</td>\n",
       "    </tr>\n",
       "    <tr>\n",
       "      <th>4</th>\n",
       "      <td>Q44</td>\n",
       "      <td>01C</td>\n",
       "      <td>N81002</td>\n",
       "      <td>0101021B0BEAIAL</td>\n",
       "      <td>Gaviscon Advance_Liq (Aniseed) (Reckitt)</td>\n",
       "      <td>11</td>\n",
       "      <td>55.29</td>\n",
       "      <td>51.76</td>\n",
       "      <td>5400.0</td>\n",
       "      <td>201812</td>\n",
       "    </tr>\n",
       "    <tr>\n",
       "      <th>5</th>\n",
       "      <td>Q44</td>\n",
       "      <td>01C</td>\n",
       "      <td>N81002</td>\n",
       "      <td>0101021B0BEBEAL</td>\n",
       "      <td>Gaviscon Advance_Liq (Peppermint) S/F</td>\n",
       "      <td>3</td>\n",
       "      <td>10.24</td>\n",
       "      <td>9.64</td>\n",
       "      <td>1000.0</td>\n",
       "      <td>201812</td>\n",
       "    </tr>\n",
       "  </tbody>\n",
       "</table>\n",
       "</div>"
      ],
      "text/plain": [
       "   SHA  PCT PRACTICE         BNF CODE  \\\n",
       "1  Q44  01C   N81002  0101021B0AAAPAP   \n",
       "2  Q44  01C   N81002  0101021B0BEACAH   \n",
       "3  Q44  01C   N81002  0101021B0BEADAJ   \n",
       "4  Q44  01C   N81002  0101021B0BEAIAL   \n",
       "5  Q44  01C   N81002  0101021B0BEBEAL   \n",
       "\n",
       "                                   BNF NAME  ITEMS    NIC  ACT COST  QUANTITY  \\\n",
       "1   Sod Alginate/Pot Bicarb_Tab Chble 500mg      1   3.07      2.86      60.0   \n",
       "2          Gaviscon_Liq Orig Aniseed Relief      1  12.99     12.07     900.0   \n",
       "3   Gaviscon Infant_Sach 2g (Dual Pack) S/F      3  81.94     76.09     255.0   \n",
       "4  Gaviscon Advance_Liq (Aniseed) (Reckitt)     11  55.29     51.76    5400.0   \n",
       "5     Gaviscon Advance_Liq (Peppermint) S/F      3  10.24      9.64    1000.0   \n",
       "\n",
       "   PERIOD  \n",
       "1  201812  \n",
       "2  201812  \n",
       "3  201812  \n",
       "4  201812  \n",
       "5  201812  "
      ]
     },
     "execution_count": 34,
     "metadata": {},
     "output_type": "execute_result"
    }
   ],
   "source": [
    "df2.head()"
   ]
  },
  {
   "cell_type": "markdown",
   "metadata": {},
   "source": [
    "Firstly we have to get a list of all the non generic drugs. The pattern for BNF codes Is referenced here https://ebmdatalab.net/prescribing-data-bnf-codes/\n",
    " In principle anything that has AA in the 10 and 11 position of the BNF code is a generic. And using the last two characters gives a pointer to the generic of any branded drugs."
   ]
  },
  {
   "cell_type": "code",
   "execution_count": 37,
   "metadata": {},
   "outputs": [],
   "source": [
    "import re\n",
    "generic_lookup = {}\n",
    "\n",
    "regex = re.compile(r\"(\\S{9})(\\S\\S)(\\S\\S)(\\S\\S)\")\n",
    "\n",
    "for index, row in df2.iterrows():\n",
    "    code = row['BNF CODE']\n",
    "    match = regex.match(code)\n",
    "    if match:\n",
    "        bnf = match.group(1)\n",
    "        product = match.group(2)\n",
    "        strength = match.group(3)\n",
    "        generic_code = match.group(4)\n",
    "        is_generic = False\n",
    "        if product == 'AA':\n",
    "            gen_code = code\n",
    "            is_generic = True\n",
    "        else:\n",
    "            gen_code = \"{}{}{}{}\".format(bnf, 'AA', generic_code, generic_code)    \n",
    "        if gen_code not in generic_lookup:\n",
    "            generic_lookup[gen_code] = []\n",
    "        if not is_generic:\n",
    "            generic_lookup[gen_code].append(code)"
   ]
  },
  {
   "cell_type": "code",
   "execution_count": 41,
   "metadata": {},
   "outputs": [
    {
     "data": {
      "text/plain": [
       "834"
      ]
     },
     "execution_count": 41,
     "metadata": {},
     "output_type": "execute_result"
    }
   ],
   "source": [
    "len(generic_lookup.keys())"
   ]
  },
  {
   "cell_type": "code",
   "execution_count": 51,
   "metadata": {},
   "outputs": [
    {
     "data": {
      "text/plain": [
       "array([[<matplotlib.axes._subplots.AxesSubplot object at 0x000002B9B87836A0>]],\n",
       "      dtype=object)"
      ]
     },
     "execution_count": 51,
     "metadata": {},
     "output_type": "execute_result"
    },
    {
     "data": {
      "image/png": "[encoded data removed]",
      "text/plain": [
       "<Figure size 432x288 with 1 Axes>"
      ]
     },
     "metadata": {
      "needs_background": "light"
     },
     "output_type": "display_data"
    }
   ],
   "source": [
    "%matplotlib inline\n",
    "df2.hist(column='ACT COST', bins=5)"
   ]
  },
  {
   "cell_type": "code",
   "execution_count": null,
   "metadata": {},
   "outputs": [],
   "source": []
  }
 ],
 "metadata": {
  "kernelspec": {
   "display_name": "Python 3",
   "language": "python",
   "name": "python3"
  },
  "language_info": {
   "codemirror_mode": {
    "name": "ipython",
    "version": 3
   },
   "file_extension": ".py",
   "mimetype": "text/x-python",
   "name": "python",
   "nbconvert_exporter": "python",
   "pygments_lexer": "ipython3",
   "version": "3.7.3"
  }
 },
 "nbformat": 4,
 "nbformat_minor": 2
}

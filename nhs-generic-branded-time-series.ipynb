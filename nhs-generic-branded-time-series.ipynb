{
 "cells": [
  {
   "cell_type": "markdown",
   "metadata": {},
   "source": [
    "# NHS Prescription Costs Trend\n",
    "This is an analysis of the prescription data totals for the UK as a whole. Showing the total costs of prescription drugs and the proportion of that cost that is down to generic drugs.\n",
    "Data.gov open datasets [GP practice prescribing data - Presentation level](https://data.gov.uk/dataset/176ae264-2484-4afe-a297-d51798eb8228/gp-practice-prescribing-data-presentation-level)\n"
   ]
  },
  {
   "cell_type": "markdown",
   "metadata": {},
   "source": [
    "## Package Imports"
   ]
  },
  {
   "cell_type": "code",
   "execution_count": 78,
   "metadata": {},
   "outputs": [],
   "source": [
    "import numpy as np\n",
    "import pandas as pd\n",
    "import re\n",
    "import os\n",
    "import gc"
   ]
  },
  {
   "cell_type": "markdown",
   "metadata": {},
   "source": [
    "## Find data files\n",
    "Finds all of the Practice prescribing data csv files that match the patter of the Practice prescribing data. The data can be downloaded and extracted using the included bash script.\n",
    "```shell\n",
    "#!/bin/bash\n",
    "downloads=`cat datasets.txt`\n",
    "mkdir -p ./zips\n",
    "mkdir -p ./extracted\n",
    "for url in $downloads;\n",
    "do\n",
    "    filename=`basename ${url}`\n",
    "    echo $url\n",
    "    echo $filename\n",
    "    dir_name=`basename $filename .zip`\n",
    "    full_dir=./extracted/$dir_name\n",
    "    mkdir -p $full_dir\n",
    "    curl $url > ./zips/$filename\n",
    "    unzip ./zips/$filename -d $full_dir\n",
    "done\n",
    "```\n",
    "\n",
    "datasets.txt is a list of links to the monthly data zip files.\n",
    "```\n",
    "https://files.digital.nhs.uk/94/405A94/2018_12_Dec.zip\n",
    "https://files.digital.nhs.uk/96/A7878A/2018_11_Nov.zip\n",
    "https://files.digital.nhs.uk/33/3EE982/2018_10_Oct.zip\n",
    "https://files.digital.nhs.uk/5C/FE61C4/2018_09_Sep.zip\n",
    "https://files.digital.nhs.uk/43/C6644B/2018_08_Aug.zip\n",
    "https://files.digital.nhs.uk/7E/FC3950/2018_07_Jul.zip\n",
    "```"
   ]
  },
  {
   "cell_type": "code",
   "execution_count": 79,
   "metadata": {},
   "outputs": [],
   "source": [
    "datafile_match = re.compile(r\"\\w\\d{6}PDPI\\sBNFT\\.CSV\")\n",
    "datafiles = []\n",
    "for root, dirs, files in os.walk(\"extracted\"):\n",
    "    for f in files:\n",
    "        if datafile_match.match(f.upper()):\n",
    "            datafiles.append(os.path.join(root,f))\n"
   ]
  },
  {
   "cell_type": "markdown",
   "metadata": {},
   "source": [
    "## Process data files and create summary\n",
    "This is the processing section that reads all of the large CSV files in one at a time. Each one is ~10 million rows, so each one takes a while to process. Once they've been summarised the data frames are deleted to make way for the next one.\n",
    "\n",
    "The processing that occurs for each one is:\n",
    "* The column headers are cleaned up with leading and trailing spaces removed.\n",
    "* The first item in the period column is used to represent the time period of the entire file.\n",
    "* The sum of the  **actual cost** column (ACT COST) is calculated.\n",
    "* BNF Codes that matched the Generic code of 9 characters then AA, then the rest of the BNF code are filtered into a new data frame that now lists just the Generic drug entries.\n",
    "* The sum of the **actual cost** column (ACT COST) is calculated of the generic drugs.\n",
    "\n",
    "The summary is then stored in a new data set."
   ]
  },
  {
   "cell_type": "code",
   "execution_count": 80,
   "metadata": {},
   "outputs": [],
   "source": [
    "monthly_totals = {\"PERIOD\":[],\"TOTAL\":[],\"GENERIC\":[]}\n",
    "for datafile in datafiles:\n",
    "    df = pd.read_csv(datafile, sep=\",\")\n",
    "    df.columns = [col.strip() for col in df.columns]\n",
    "    if 'PERIOD' in df and 'ACT COST' in df and 'BNF CODE' in df:\n",
    "        period = str(df['PERIOD'].iloc[0])\n",
    "        total = df['ACT COST'].sum()\n",
    "        df_generics = df[df['BNF CODE'].str.match(r\"^\\S{9}AA\")]\n",
    "        generics = df_generics['ACT COST'].sum()\n",
    "        monthly_totals[\"PERIOD\"].append(period)\n",
    "        monthly_totals[\"TOTAL\"].append(total)\n",
    "        monthly_totals[\"GENERIC\"].append(generics)\n",
    "    del df\n",
    "    gc.collect()"
   ]
  },
  {
   "cell_type": "markdown",
   "metadata": {},
   "source": [
    "## Data formatting and getting to the correct type\n",
    "The Summary data frame is now formatted with Period as a Date field and the total and generic fields scaled down to represent millions of pounds."
   ]
  },
  {
   "cell_type": "code",
   "execution_count": 81,
   "metadata": {},
   "outputs": [
    {
     "data": {
      "text/html": [
       "<div>\n",
       "<style scoped>\n",
       "    .dataframe tbody tr th:only-of-type {\n",
       "        vertical-align: middle;\n",
       "    }\n",
       "\n",
       "    .dataframe tbody tr th {\n",
       "        vertical-align: top;\n",
       "    }\n",
       "\n",
       "    .dataframe thead th {\n",
       "        text-align: right;\n",
       "    }\n",
       "</style>\n",
       "<table border=\"1\" class=\"dataframe\">\n",
       "  <thead>\n",
       "    <tr style=\"text-align: right;\">\n",
       "      <th></th>\n",
       "      <th>PERIOD</th>\n",
       "      <th>TOTAL</th>\n",
       "      <th>GENERIC</th>\n",
       "    </tr>\n",
       "  </thead>\n",
       "  <tbody>\n",
       "    <tr>\n",
       "      <th>0</th>\n",
       "      <td>2017-01-01</td>\n",
       "      <td>673.701184</td>\n",
       "      <td>380.864733</td>\n",
       "    </tr>\n",
       "    <tr>\n",
       "      <th>1</th>\n",
       "      <td>2017-02-01</td>\n",
       "      <td>629.058403</td>\n",
       "      <td>354.189755</td>\n",
       "    </tr>\n",
       "    <tr>\n",
       "      <th>2</th>\n",
       "      <td>2017-04-01</td>\n",
       "      <td>631.344204</td>\n",
       "      <td>352.338049</td>\n",
       "    </tr>\n",
       "    <tr>\n",
       "      <th>3</th>\n",
       "      <td>2017-05-01</td>\n",
       "      <td>700.264801</td>\n",
       "      <td>391.281398</td>\n",
       "    </tr>\n",
       "    <tr>\n",
       "      <th>4</th>\n",
       "      <td>2017-06-01</td>\n",
       "      <td>727.831844</td>\n",
       "      <td>413.664641</td>\n",
       "    </tr>\n",
       "    <tr>\n",
       "      <th>5</th>\n",
       "      <td>2017-07-01</td>\n",
       "      <td>707.524407</td>\n",
       "      <td>403.305150</td>\n",
       "    </tr>\n",
       "    <tr>\n",
       "      <th>6</th>\n",
       "      <td>2017-08-01</td>\n",
       "      <td>689.886489</td>\n",
       "      <td>387.583875</td>\n",
       "    </tr>\n",
       "    <tr>\n",
       "      <th>7</th>\n",
       "      <td>2017-09-01</td>\n",
       "      <td>702.632823</td>\n",
       "      <td>397.659786</td>\n",
       "    </tr>\n",
       "    <tr>\n",
       "      <th>8</th>\n",
       "      <td>2017-10-01</td>\n",
       "      <td>731.830218</td>\n",
       "      <td>416.085633</td>\n",
       "    </tr>\n",
       "    <tr>\n",
       "      <th>9</th>\n",
       "      <td>2017-11-01</td>\n",
       "      <td>708.005873</td>\n",
       "      <td>394.951544</td>\n",
       "    </tr>\n",
       "    <tr>\n",
       "      <th>10</th>\n",
       "      <td>2017-12-01</td>\n",
       "      <td>682.419410</td>\n",
       "      <td>378.779709</td>\n",
       "    </tr>\n",
       "    <tr>\n",
       "      <th>11</th>\n",
       "      <td>2018-02-01</td>\n",
       "      <td>611.150095</td>\n",
       "      <td>332.892590</td>\n",
       "    </tr>\n",
       "    <tr>\n",
       "      <th>12</th>\n",
       "      <td>2018-03-01</td>\n",
       "      <td>669.411818</td>\n",
       "      <td>365.634872</td>\n",
       "    </tr>\n",
       "    <tr>\n",
       "      <th>13</th>\n",
       "      <td>2018-04-01</td>\n",
       "      <td>643.187390</td>\n",
       "      <td>347.844577</td>\n",
       "    </tr>\n",
       "    <tr>\n",
       "      <th>14</th>\n",
       "      <td>2018-05-01</td>\n",
       "      <td>675.472315</td>\n",
       "      <td>368.418208</td>\n",
       "    </tr>\n",
       "    <tr>\n",
       "      <th>15</th>\n",
       "      <td>2018-06-01</td>\n",
       "      <td>666.803479</td>\n",
       "      <td>362.565697</td>\n",
       "    </tr>\n",
       "    <tr>\n",
       "      <th>16</th>\n",
       "      <td>2018-07-01</td>\n",
       "      <td>659.840430</td>\n",
       "      <td>351.500518</td>\n",
       "    </tr>\n",
       "    <tr>\n",
       "      <th>17</th>\n",
       "      <td>2018-08-01</td>\n",
       "      <td>679.986077</td>\n",
       "      <td>370.353950</td>\n",
       "    </tr>\n",
       "    <tr>\n",
       "      <th>18</th>\n",
       "      <td>2018-09-01</td>\n",
       "      <td>655.082188</td>\n",
       "      <td>348.591503</td>\n",
       "    </tr>\n",
       "    <tr>\n",
       "      <th>19</th>\n",
       "      <td>2018-10-01</td>\n",
       "      <td>719.904213</td>\n",
       "      <td>373.551269</td>\n",
       "    </tr>\n",
       "    <tr>\n",
       "      <th>20</th>\n",
       "      <td>2018-11-01</td>\n",
       "      <td>692.682587</td>\n",
       "      <td>358.100786</td>\n",
       "    </tr>\n",
       "    <tr>\n",
       "      <th>21</th>\n",
       "      <td>2018-12-01</td>\n",
       "      <td>669.858940</td>\n",
       "      <td>359.004576</td>\n",
       "    </tr>\n",
       "  </tbody>\n",
       "</table>\n",
       "</div>"
      ],
      "text/plain": [
       "       PERIOD       TOTAL     GENERIC\n",
       "0  2017-01-01  673.701184  380.864733\n",
       "1  2017-02-01  629.058403  354.189755\n",
       "2  2017-04-01  631.344204  352.338049\n",
       "3  2017-05-01  700.264801  391.281398\n",
       "4  2017-06-01  727.831844  413.664641\n",
       "5  2017-07-01  707.524407  403.305150\n",
       "6  2017-08-01  689.886489  387.583875\n",
       "7  2017-09-01  702.632823  397.659786\n",
       "8  2017-10-01  731.830218  416.085633\n",
       "9  2017-11-01  708.005873  394.951544\n",
       "10 2017-12-01  682.419410  378.779709\n",
       "11 2018-02-01  611.150095  332.892590\n",
       "12 2018-03-01  669.411818  365.634872\n",
       "13 2018-04-01  643.187390  347.844577\n",
       "14 2018-05-01  675.472315  368.418208\n",
       "15 2018-06-01  666.803479  362.565697\n",
       "16 2018-07-01  659.840430  351.500518\n",
       "17 2018-08-01  679.986077  370.353950\n",
       "18 2018-09-01  655.082188  348.591503\n",
       "19 2018-10-01  719.904213  373.551269\n",
       "20 2018-11-01  692.682587  358.100786\n",
       "21 2018-12-01  669.858940  359.004576"
      ]
     },
     "execution_count": 81,
     "metadata": {},
     "output_type": "execute_result"
    }
   ],
   "source": [
    "time_trends=pd.DataFrame(data=monthly_totals)\n",
    "time_trends['PERIOD'] = pd.to_datetime(time_trends['PERIOD'], format='%Y%m')\n",
    "time_trends['TOTAL'] = time_trends['TOTAL']/1000000\n",
    "time_trends['GENERIC'] = time_trends['GENERIC']/1000000\n",
    "time_trends"
   ]
  },
  {
   "cell_type": "code",
   "execution_count": 82,
   "metadata": {},
   "outputs": [
    {
     "data": {
      "text/plain": [
       "Text(0, 0.5, '£ in Millions')"
      ]
     },
     "execution_count": 82,
     "metadata": {},
     "output_type": "execute_result"
    },
    {
     "data": {
      "image/png": "[encoded data removed]",
      "text/plain": [
       "<Figure size 432x288 with 1 Axes>"
      ]
     },
     "metadata": {
      "needs_background": "light"
     },
     "output_type": "display_data"
    }
   ],
   "source": [
    "ax = time_trends.plot.area(x='PERIOD', ylim=(0,1000), stacked=False, title=\"National prescription costs by month\")\n",
    "ax.set_xlabel(\"Month\")\n",
    "ax.set_ylabel(\"£ in Millions\")"
   ]
  },
  {
   "cell_type": "code",
   "execution_count": null,
   "metadata": {},
   "outputs": [],
   "source": []
  }
 ],
 "metadata": {
  "kernelspec": {
   "display_name": "Python 3",
   "language": "python",
   "name": "python3"
  },
  "language_info": {
   "codemirror_mode": {
    "name": "ipython",
    "version": 3
   },
   "file_extension": ".py",
   "mimetype": "text/x-python",
   "name": "python",
   "nbconvert_exporter": "python",
   "pygments_lexer": "ipython3",
   "version": "3.7.3"
  }
 },
 "nbformat": 4,
 "nbformat_minor": 2
}
